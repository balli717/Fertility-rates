{
 "cells": [
  {
   "cell_type": "markdown",
   "id": "bd076672",
   "metadata": {},
   "source": [
    "# Fertility_and_Education"
   ]
  },
  {
   "cell_type": "markdown",
   "id": "a928c711",
   "metadata": {},
   "source": [
    "Hypothesis: by delaying women from birth event will reduce the fertility rate\n",
    "The trend seen in the boxplot is that once women is into higher education, the age of firt birt inceases drastically atleast by 25%\n",
    "\n",
    "The logistic regression model predicts that with completing higher education women is likely to give birth after 19 years\n",
    "with 58 percent precission with recall values 0.78 and F1 score as 0.67\n",
    "\n",
    "\n",
    "Significance of the study is that, 15th Finacne Commission has allocated 15% of it grants to states on basis of TFR,(desired TFR is 2.1)\n",
    "The states higher than TFR 2.1 have the possibility to reduce it by positive measures as keeping women in education\n",
    "\n"
   ]
  },
  {
   "cell_type": "code",
   "execution_count": 1,
   "id": "f92938a7",
   "metadata": {},
   "outputs": [],
   "source": [
    "import pandas as pd\n",
    "import numpy as np\n",
    "import seaborn as sns\n",
    "import matplotlib.pyplot as plt\n",
    "%matplotlib inline\n",
    "import pyreadstat"
   ]
  },
  {
   "cell_type": "markdown",
   "id": "a02782cc",
   "metadata": {},
   "source": [
    "# Loading NFHS 3 data taken from IAIR74FL.DTA"
   ]
  },
  {
   "cell_type": "code",
   "execution_count": 2,
   "id": "f7ff6f99",
   "metadata": {},
   "outputs": [
    {
     "data": {
      "text/html": [
       "<div>\n",
       "<style scoped>\n",
       "    .dataframe tbody tr th:only-of-type {\n",
       "        vertical-align: middle;\n",
       "    }\n",
       "\n",
       "    .dataframe tbody tr th {\n",
       "        vertical-align: top;\n",
       "    }\n",
       "\n",
       "    .dataframe thead th {\n",
       "        text-align: right;\n",
       "    }\n",
       "</style>\n",
       "<table border=\"1\" class=\"dataframe\">\n",
       "  <thead>\n",
       "    <tr style=\"text-align: right;\">\n",
       "      <th></th>\n",
       "      <th>caseid</th>\n",
       "      <th>v000</th>\n",
       "      <th>v001</th>\n",
       "      <th>v002</th>\n",
       "      <th>v003</th>\n",
       "      <th>v004</th>\n",
       "      <th>v005</th>\n",
       "      <th>v006</th>\n",
       "      <th>v007</th>\n",
       "      <th>v008</th>\n",
       "      <th>...</th>\n",
       "      <th>b5_03</th>\n",
       "      <th>b5_04</th>\n",
       "      <th>b5_05</th>\n",
       "      <th>b5_06</th>\n",
       "      <th>b5_07</th>\n",
       "      <th>b5_08</th>\n",
       "      <th>b5_09</th>\n",
       "      <th>v212</th>\n",
       "      <th>v213</th>\n",
       "      <th>v238</th>\n",
       "    </tr>\n",
       "  </thead>\n",
       "  <tbody>\n",
       "    <tr>\n",
       "      <th>0</th>\n",
       "      <td>28  1   1  2</td>\n",
       "      <td>IA5</td>\n",
       "      <td>28001</td>\n",
       "      <td>1</td>\n",
       "      <td>2</td>\n",
       "      <td>NaN</td>\n",
       "      <td>2474583</td>\n",
       "      <td>1</td>\n",
       "      <td>2006</td>\n",
       "      <td>1273</td>\n",
       "      <td>...</td>\n",
       "      <td>yes</td>\n",
       "      <td>no</td>\n",
       "      <td>NaN</td>\n",
       "      <td>NaN</td>\n",
       "      <td>NaN</td>\n",
       "      <td>NaN</td>\n",
       "      <td>NaN</td>\n",
       "      <td>19</td>\n",
       "      <td>no or unsure</td>\n",
       "      <td>0</td>\n",
       "    </tr>\n",
       "    <tr>\n",
       "      <th>1</th>\n",
       "      <td>28  1   1  4</td>\n",
       "      <td>IA5</td>\n",
       "      <td>28001</td>\n",
       "      <td>1</td>\n",
       "      <td>4</td>\n",
       "      <td>NaN</td>\n",
       "      <td>2474583</td>\n",
       "      <td>1</td>\n",
       "      <td>2006</td>\n",
       "      <td>1273</td>\n",
       "      <td>...</td>\n",
       "      <td>NaN</td>\n",
       "      <td>NaN</td>\n",
       "      <td>NaN</td>\n",
       "      <td>NaN</td>\n",
       "      <td>NaN</td>\n",
       "      <td>NaN</td>\n",
       "      <td>NaN</td>\n",
       "      <td>17</td>\n",
       "      <td>no or unsure</td>\n",
       "      <td>1</td>\n",
       "    </tr>\n",
       "    <tr>\n",
       "      <th>2</th>\n",
       "      <td>28  1   2  2</td>\n",
       "      <td>IA5</td>\n",
       "      <td>28001</td>\n",
       "      <td>2</td>\n",
       "      <td>2</td>\n",
       "      <td>NaN</td>\n",
       "      <td>2474583</td>\n",
       "      <td>3</td>\n",
       "      <td>2006</td>\n",
       "      <td>1275</td>\n",
       "      <td>...</td>\n",
       "      <td>NaN</td>\n",
       "      <td>NaN</td>\n",
       "      <td>NaN</td>\n",
       "      <td>NaN</td>\n",
       "      <td>NaN</td>\n",
       "      <td>NaN</td>\n",
       "      <td>NaN</td>\n",
       "      <td>13</td>\n",
       "      <td>no or unsure</td>\n",
       "      <td>0</td>\n",
       "    </tr>\n",
       "    <tr>\n",
       "      <th>3</th>\n",
       "      <td>28  1   2  5</td>\n",
       "      <td>IA5</td>\n",
       "      <td>28001</td>\n",
       "      <td>2</td>\n",
       "      <td>5</td>\n",
       "      <td>NaN</td>\n",
       "      <td>2474583</td>\n",
       "      <td>3</td>\n",
       "      <td>2006</td>\n",
       "      <td>1275</td>\n",
       "      <td>...</td>\n",
       "      <td>NaN</td>\n",
       "      <td>NaN</td>\n",
       "      <td>NaN</td>\n",
       "      <td>NaN</td>\n",
       "      <td>NaN</td>\n",
       "      <td>NaN</td>\n",
       "      <td>NaN</td>\n",
       "      <td>NaN</td>\n",
       "      <td>no or unsure</td>\n",
       "      <td>0</td>\n",
       "    </tr>\n",
       "    <tr>\n",
       "      <th>4</th>\n",
       "      <td>28  1   4  3</td>\n",
       "      <td>IA5</td>\n",
       "      <td>28001</td>\n",
       "      <td>4</td>\n",
       "      <td>3</td>\n",
       "      <td>NaN</td>\n",
       "      <td>2474583</td>\n",
       "      <td>1</td>\n",
       "      <td>2006</td>\n",
       "      <td>1273</td>\n",
       "      <td>...</td>\n",
       "      <td>NaN</td>\n",
       "      <td>NaN</td>\n",
       "      <td>NaN</td>\n",
       "      <td>NaN</td>\n",
       "      <td>NaN</td>\n",
       "      <td>NaN</td>\n",
       "      <td>NaN</td>\n",
       "      <td>21</td>\n",
       "      <td>no or unsure</td>\n",
       "      <td>0</td>\n",
       "    </tr>\n",
       "  </tbody>\n",
       "</table>\n",
       "<p>5 rows × 109 columns</p>\n",
       "</div>"
      ],
      "text/plain": [
       "            caseid v000   v001  v002  v003 v004     v005  v006  v007  v008  \\\n",
       "0     28  1   1  2  IA5  28001     1     2  NaN  2474583     1  2006  1273   \n",
       "1     28  1   1  4  IA5  28001     1     4  NaN  2474583     1  2006  1273   \n",
       "2     28  1   2  2  IA5  28001     2     2  NaN  2474583     3  2006  1275   \n",
       "3     28  1   2  5  IA5  28001     2     5  NaN  2474583     3  2006  1275   \n",
       "4     28  1   4  3  IA5  28001     4     3  NaN  2474583     1  2006  1273   \n",
       "\n",
       "   ...  b5_03  b5_04  b5_05  b5_06 b5_07 b5_08 b5_09 v212          v213 v238  \n",
       "0  ...    yes     no    NaN    NaN   NaN   NaN   NaN   19  no or unsure    0  \n",
       "1  ...    NaN    NaN    NaN    NaN   NaN   NaN   NaN   17  no or unsure    1  \n",
       "2  ...    NaN    NaN    NaN    NaN   NaN   NaN   NaN   13  no or unsure    0  \n",
       "3  ...    NaN    NaN    NaN    NaN   NaN   NaN   NaN  NaN  no or unsure    0  \n",
       "4  ...    NaN    NaN    NaN    NaN   NaN   NaN   NaN   21  no or unsure    0  \n",
       "\n",
       "[5 rows x 109 columns]"
      ]
     },
     "execution_count": 2,
     "metadata": {},
     "output_type": "execute_result"
    }
   ],
   "source": [
    "df, meta = pyreadstat.read_dta('pyth_nfhs 3.dta',apply_value_formats=True, formats_as_category=True)\n",
    "df.head()"
   ]
  },
  {
   "cell_type": "code",
   "execution_count": null,
   "id": "d74c43e4",
   "metadata": {},
   "outputs": [],
   "source": [
    "# knowing the variables used"
   ]
  },
  {
   "cell_type": "code",
   "execution_count": 3,
   "id": "b29be32f",
   "metadata": {
    "scrolled": true
   },
   "outputs": [
    {
     "data": {
      "text/plain": [
       "['no education', 'primary', 'secondary', 'higher', 9]\n",
       "Categories (5, object): ['no education', 'primary', 'secondary', 'higher', 9]"
      ]
     },
     "execution_count": 3,
     "metadata": {},
     "output_type": "execute_result"
    }
   ],
   "source": [
    "## education categories ( 0- no education, 1 -primary, 2 - secondary, 3 - higher  )\n",
    "df['v106'].unique()"
   ]
  },
  {
   "cell_type": "code",
   "execution_count": 4,
   "id": "6758a8b7",
   "metadata": {},
   "outputs": [
    {
     "data": {
      "text/plain": [
       "['poorer', 'middle', 'richer', 'poorest', 'richest']\n",
       "Categories (5, object): ['poorer', 'middle', 'richer', 'poorest', 'richest']"
      ]
     },
     "execution_count": 4,
     "metadata": {},
     "output_type": "execute_result"
    }
   ],
   "source": [
    "## wealth categories (1- poorest, 2 - porrer, 3 - middle, 4 - richer, 5 - richest)\n",
    "df['v190'].unique()"
   ]
  },
  {
   "cell_type": "code",
   "execution_count": 5,
   "id": "96882486",
   "metadata": {},
   "outputs": [
    {
     "data": {
      "text/plain": [
       "array([0, 1, 2, 3, 4, 6], dtype=int64)"
      ]
     },
     "execution_count": 5,
     "metadata": {},
     "output_type": "execute_result"
    }
   ],
   "source": [
    "# number of births in last three years\n",
    "df['v238'].unique()"
   ]
  },
  {
   "cell_type": "code",
   "execution_count": 2,
   "id": "3dfbacc9",
   "metadata": {},
   "outputs": [],
   "source": [
    "df, meta = pyreadstat.read_dta('pyth_nfhs 3.dta')"
   ]
  },
  {
   "cell_type": "code",
   "execution_count": 4,
   "id": "3f7049e7",
   "metadata": {
    "scrolled": true
   },
   "outputs": [
    {
     "data": {
      "text/html": [
       "<div>\n",
       "<style scoped>\n",
       "    .dataframe tbody tr th:only-of-type {\n",
       "        vertical-align: middle;\n",
       "    }\n",
       "\n",
       "    .dataframe tbody tr th {\n",
       "        vertical-align: top;\n",
       "    }\n",
       "\n",
       "    .dataframe thead th {\n",
       "        text-align: right;\n",
       "    }\n",
       "</style>\n",
       "<table border=\"1\" class=\"dataframe\">\n",
       "  <thead>\n",
       "    <tr style=\"text-align: right;\">\n",
       "      <th></th>\n",
       "      <th>caseid</th>\n",
       "      <th>v000</th>\n",
       "      <th>v001</th>\n",
       "      <th>v002</th>\n",
       "      <th>v003</th>\n",
       "      <th>v004</th>\n",
       "      <th>v005</th>\n",
       "      <th>v006</th>\n",
       "      <th>v007</th>\n",
       "      <th>v008</th>\n",
       "      <th>...</th>\n",
       "      <th>b5_03</th>\n",
       "      <th>b5_04</th>\n",
       "      <th>b5_05</th>\n",
       "      <th>b5_06</th>\n",
       "      <th>b5_07</th>\n",
       "      <th>b5_08</th>\n",
       "      <th>b5_09</th>\n",
       "      <th>v212</th>\n",
       "      <th>v213</th>\n",
       "      <th>v238</th>\n",
       "    </tr>\n",
       "  </thead>\n",
       "  <tbody>\n",
       "    <tr>\n",
       "      <th>0</th>\n",
       "      <td>28  1   1  2</td>\n",
       "      <td>IA5</td>\n",
       "      <td>28001</td>\n",
       "      <td>1</td>\n",
       "      <td>2</td>\n",
       "      <td>NaN</td>\n",
       "      <td>2474583</td>\n",
       "      <td>1</td>\n",
       "      <td>2006</td>\n",
       "      <td>1273</td>\n",
       "      <td>...</td>\n",
       "      <td>1</td>\n",
       "      <td>0</td>\n",
       "      <td>NaN</td>\n",
       "      <td>NaN</td>\n",
       "      <td>NaN</td>\n",
       "      <td>NaN</td>\n",
       "      <td>NaN</td>\n",
       "      <td>19</td>\n",
       "      <td>0</td>\n",
       "      <td>0</td>\n",
       "    </tr>\n",
       "    <tr>\n",
       "      <th>1</th>\n",
       "      <td>28  1   1  4</td>\n",
       "      <td>IA5</td>\n",
       "      <td>28001</td>\n",
       "      <td>1</td>\n",
       "      <td>4</td>\n",
       "      <td>NaN</td>\n",
       "      <td>2474583</td>\n",
       "      <td>1</td>\n",
       "      <td>2006</td>\n",
       "      <td>1273</td>\n",
       "      <td>...</td>\n",
       "      <td>NaN</td>\n",
       "      <td>NaN</td>\n",
       "      <td>NaN</td>\n",
       "      <td>NaN</td>\n",
       "      <td>NaN</td>\n",
       "      <td>NaN</td>\n",
       "      <td>NaN</td>\n",
       "      <td>17</td>\n",
       "      <td>0</td>\n",
       "      <td>1</td>\n",
       "    </tr>\n",
       "    <tr>\n",
       "      <th>2</th>\n",
       "      <td>28  1   2  2</td>\n",
       "      <td>IA5</td>\n",
       "      <td>28001</td>\n",
       "      <td>2</td>\n",
       "      <td>2</td>\n",
       "      <td>NaN</td>\n",
       "      <td>2474583</td>\n",
       "      <td>3</td>\n",
       "      <td>2006</td>\n",
       "      <td>1275</td>\n",
       "      <td>...</td>\n",
       "      <td>NaN</td>\n",
       "      <td>NaN</td>\n",
       "      <td>NaN</td>\n",
       "      <td>NaN</td>\n",
       "      <td>NaN</td>\n",
       "      <td>NaN</td>\n",
       "      <td>NaN</td>\n",
       "      <td>13</td>\n",
       "      <td>0</td>\n",
       "      <td>0</td>\n",
       "    </tr>\n",
       "    <tr>\n",
       "      <th>3</th>\n",
       "      <td>28  1   2  5</td>\n",
       "      <td>IA5</td>\n",
       "      <td>28001</td>\n",
       "      <td>2</td>\n",
       "      <td>5</td>\n",
       "      <td>NaN</td>\n",
       "      <td>2474583</td>\n",
       "      <td>3</td>\n",
       "      <td>2006</td>\n",
       "      <td>1275</td>\n",
       "      <td>...</td>\n",
       "      <td>NaN</td>\n",
       "      <td>NaN</td>\n",
       "      <td>NaN</td>\n",
       "      <td>NaN</td>\n",
       "      <td>NaN</td>\n",
       "      <td>NaN</td>\n",
       "      <td>NaN</td>\n",
       "      <td>NaN</td>\n",
       "      <td>0</td>\n",
       "      <td>0</td>\n",
       "    </tr>\n",
       "    <tr>\n",
       "      <th>4</th>\n",
       "      <td>28  1   4  3</td>\n",
       "      <td>IA5</td>\n",
       "      <td>28001</td>\n",
       "      <td>4</td>\n",
       "      <td>3</td>\n",
       "      <td>NaN</td>\n",
       "      <td>2474583</td>\n",
       "      <td>1</td>\n",
       "      <td>2006</td>\n",
       "      <td>1273</td>\n",
       "      <td>...</td>\n",
       "      <td>NaN</td>\n",
       "      <td>NaN</td>\n",
       "      <td>NaN</td>\n",
       "      <td>NaN</td>\n",
       "      <td>NaN</td>\n",
       "      <td>NaN</td>\n",
       "      <td>NaN</td>\n",
       "      <td>21</td>\n",
       "      <td>0</td>\n",
       "      <td>0</td>\n",
       "    </tr>\n",
       "  </tbody>\n",
       "</table>\n",
       "<p>5 rows × 109 columns</p>\n",
       "</div>"
      ],
      "text/plain": [
       "            caseid v000   v001  v002  v003 v004     v005  v006  v007  v008  \\\n",
       "0     28  1   1  2  IA5  28001     1     2  NaN  2474583     1  2006  1273   \n",
       "1     28  1   1  4  IA5  28001     1     4  NaN  2474583     1  2006  1273   \n",
       "2     28  1   2  2  IA5  28001     2     2  NaN  2474583     3  2006  1275   \n",
       "3     28  1   2  5  IA5  28001     2     5  NaN  2474583     3  2006  1275   \n",
       "4     28  1   4  3  IA5  28001     4     3  NaN  2474583     1  2006  1273   \n",
       "\n",
       "   ...  b5_03  b5_04  b5_05  b5_06  b5_07  b5_08  b5_09 v212  v213  v238  \n",
       "0  ...      1      0    NaN    NaN    NaN    NaN    NaN   19     0     0  \n",
       "1  ...    NaN    NaN    NaN    NaN    NaN    NaN    NaN   17     0     1  \n",
       "2  ...    NaN    NaN    NaN    NaN    NaN    NaN    NaN   13     0     0  \n",
       "3  ...    NaN    NaN    NaN    NaN    NaN    NaN    NaN  NaN     0     0  \n",
       "4  ...    NaN    NaN    NaN    NaN    NaN    NaN    NaN   21     0     0  \n",
       "\n",
       "[5 rows x 109 columns]"
      ]
     },
     "execution_count": 4,
     "metadata": {},
     "output_type": "execute_result"
    }
   ],
   "source": [
    "df.head()"
   ]
  },
  {
   "cell_type": "code",
   "execution_count": 6,
   "id": "924cc219",
   "metadata": {},
   "outputs": [
    {
     "name": "stdout",
     "output_type": "stream",
     "text": [
      "<class 'pandas.core.frame.DataFrame'>\n",
      "RangeIndex: 124385 entries, 0 to 124384\n",
      "Columns: 112 entries, caseid to v313\n",
      "dtypes: int64(65), object(47)\n",
      "memory usage: 106.3+ MB\n"
     ]
    }
   ],
   "source": [
    "df.info()"
   ]
  },
  {
   "cell_type": "code",
   "execution_count": 7,
   "id": "1a85f768",
   "metadata": {},
   "outputs": [
    {
     "data": {
      "text/plain": [
       "array([47, 23, 20, 40, 31, 22, 25, 45, 24, 19, 21, 30, 46, 42, 16, 32, 43,\n",
       "       18, 36, 35, 33, 15, 48, 37, 41, 29, 38, 17, 28, 39, 49, 27, 34, 26,\n",
       "       44], dtype=int64)"
      ]
     },
     "execution_count": 7,
     "metadata": {},
     "output_type": "execute_result"
    }
   ],
   "source": [
    "# population age is 15-49 since fertility rates are calculated in between these rates in India\n",
    "df['v012'].unique()"
   ]
  },
  {
   "cell_type": "code",
   "execution_count": 8,
   "id": "4efd7b3b",
   "metadata": {},
   "outputs": [
    {
     "data": {
      "text/plain": [
       "35"
      ]
     },
     "execution_count": 8,
     "metadata": {},
     "output_type": "execute_result"
    }
   ],
   "source": [
    "df['v012'].nunique()"
   ]
  },
  {
   "cell_type": "markdown",
   "id": "436a1a80",
   "metadata": {},
   "source": [
    "# Choosing the population for analysis"
   ]
  },
  {
   "cell_type": "code",
   "execution_count": null,
   "id": "37f40b89",
   "metadata": {},
   "outputs": [],
   "source": [
    "# since the hypothesis is to delay the age of marriage to 21 which will in return reduce the fertility rate immediately in short term\n",
    "\n",
    "## On long term there are two major advantages\n",
    "   # 1. Higher educated women tend to have fewer babies\n",
    "   # 2. Reduced exposure to chance of pregnancy if women are married after 21 ( policy measures that make sure women are married after the age of 21)"
   ]
  },
  {
   "cell_type": "code",
   "execution_count": 3,
   "id": "91d5fffd",
   "metadata": {},
   "outputs": [],
   "source": [
    "df['B']=0\n",
    "# creating new column B which considers birth events in last 3 years and women who are currently pregnant\n",
    "conditions=[\n",
    "    (df['v238']==1),\n",
    "    (df['v238']==2),\n",
    "    (df['v238']==3),\n",
    "    (df['v238']==4),\n",
    "    (df['v238']==5),\n",
    "    (df['v238']==6),\n",
    "        (df['v238']==0) & (df['v213']==1),\n",
    "    \n",
    "]\n",
    "values= [1,1,1,1,1,1,1]\n",
    "\n",
    "df['B'] = np.select(conditions,values)\n",
    "\n",
    "# this feature is used to drop the women who are not currently pregnant and have not given birth in last 3 years:\n",
    "# The rationale is we are only looking into age of first birth or pregnancy "
   ]
  },
  {
   "cell_type": "code",
   "execution_count": 73,
   "id": "78e37e75",
   "metadata": {},
   "outputs": [
    {
     "data": {
      "text/plain": [
       "0    94372\n",
       "1    30013\n",
       "Name: B, dtype: int64"
      ]
     },
     "execution_count": 73,
     "metadata": {},
     "output_type": "execute_result"
    }
   ],
   "source": [
    "df['B'].value_counts()"
   ]
  },
  {
   "cell_type": "code",
   "execution_count": 4,
   "id": "a8a66274",
   "metadata": {},
   "outputs": [],
   "source": [
    "# the present legal age of marriage is 18, any birth after 18 is recorded as birth at 19 years; \n",
    "# We want to look at how is education level and wealth index shows effect on age of first birth \n",
    "df= df.drop(index=df[df['v012']<15].index)\n",
    "df= df.drop(index=df[df['v012']>21].index)\n",
    "# considering only those who gave birth in last 3 years and are currently pregnant \n",
    "df= df.drop(index=df[df['B']==0].index)\n",
    "df= df.drop(index=df[df['v106']==9].index)\n",
    "# removing outliers that is people who gave birth before age of 15 (TFR is calculated for events between 15-49 years)\n",
    "df= df.drop(index=df[df['v212']<15].index)"
   ]
  },
  {
   "cell_type": "code",
   "execution_count": 75,
   "id": "c9a70aea",
   "metadata": {},
   "outputs": [
    {
     "data": {
      "text/plain": [
       "1    6536\n",
       "Name: B, dtype: int64"
      ]
     },
     "execution_count": 75,
     "metadata": {},
     "output_type": "execute_result"
    }
   ],
   "source": [
    "df['B'].value_counts()"
   ]
  },
  {
   "cell_type": "markdown",
   "id": "0bb4c7e9",
   "metadata": {},
   "source": [
    "# Boxploting to see the trends in fertlity and education along with wealth"
   ]
  },
  {
   "cell_type": "code",
   "execution_count": 7,
   "id": "3ed0e031",
   "metadata": {},
   "outputs": [
    {
     "name": "stderr",
     "output_type": "stream",
     "text": [
      "C:\\PROGRA~1\\KMSpico\\temp/ipykernel_8180/1715354793.py:16: UserWarning: linestyle is redundantly defined by the 'linestyle' keyword argument and the fmt string \"-k\" (-> linestyle='-'). The keyword argument will take precedence.\n",
      "  a=plt.plot(x_values, y_values, '-k', linestyle=\"--\", label='age=19')\n"
     ]
    },
    {
     "data": {
      "image/png": "[encoded data removed]",
      "text/plain": [
       "<Figure size 1368x864 with 1 Axes>"
      ]
     },
     "metadata": {
      "needs_background": "light"
     },
     "output_type": "display_data"
    }
   ],
   "source": [
    "plt.figure(figsize=(19,12))\n",
    "plot=sns.boxplot(x='v106', y='v212', data=df, hue='v190')\n",
    "\n",
    "#padded  x-axis label\n",
    "\n",
    "plt.xlabel(\"Highest Education Level\", fontsize=21, labelpad=20)\n",
    "plt.ylabel(\"Age at first Birth\", fontsize=21, labelpad=20)\n",
    "#renaming the axix points\n",
    "plot.set_xticklabels( ('No Education', 'Primary Education',' Secondary Education',' Higher Education') )\n",
    "# age=19 line\n",
    "point1 = [-0.5, 19]\n",
    "point2 = [4, 19]\n",
    "\n",
    "x_values = [point1[0], point2[0]]\n",
    "y_values = [point1[1], point2[1]]\n",
    "a=plt.plot(x_values, y_values, '-k', linestyle=\"--\", label='age=19')\n",
    "point1 = [-0.5, 22]\n",
    "point2 = [4, 22]\n",
    "\n",
    "\n",
    "#labeling legend with proxy artists \n",
    "plt.yticks(fontsize=14)\n",
    "plt.xticks(fontsize=16)\n",
    "plt.legend(fontsize=18)\n",
    "import matplotlib.patches as mpatches\n",
    "import matplotlib.pyplot as plt\n",
    "import matplotlib.lines as mlines\n",
    "\n",
    "black_line = mlines.Line2D([], [], color='black',\n",
    "                          markersize=15, label='age=19')\n",
    "blue_patch = mpatches.Patch(color='#3274a1', label='poorest')\n",
    "orange_patch = mpatches.Patch(color='#e1812c', label='poorer')\n",
    "green_patch = mpatches.Patch(color='#3a923a', label='middle')\n",
    "red_patch = mpatches.Patch(color='#c03d3e', label='richer')\n",
    "violet_patch = mpatches.Patch(color='#9372b2', label='richest')\n",
    "first_legend = plt.legend(handles=[ blue_patch, orange_patch, green_patch, red_patch, violet_patch],fontsize=18)\n",
    "ax = plt.gca().add_artist(first_legend)\n",
    "plt.title(\"NFHS 3 survey 2004-2005:Status of Women(age group 15-21) who gave bith in last three years and currently pregnat; \\n Total observation 26859 \", fontsize=18)\n",
    "plt.legend(handles=a, loc=4,fontsize=18 )\n",
    "plt.show()"
   ]
  },
  {
   "cell_type": "code",
   "execution_count": 5,
   "id": "d1f36d6d",
   "metadata": {},
   "outputs": [
    {
     "data": {
      "image/png": "[encoded data removed]",
      "text/plain": [
       "<Figure size 1368x864 with 1 Axes>"
      ]
     },
     "metadata": {
      "needs_background": "light"
     },
     "output_type": "display_data"
    }
   ],
   "source": [
    "plt.figure(figsize=(19,12))\n",
    "plot=sns.boxplot(x='v106', y='v212', data=df, hue='v190')\n",
    "\n",
    "#padded  x-axis label\n",
    "\n",
    "plt.xlabel(\"Highest Education Level\", fontsize=21, labelpad=20)\n",
    "plt.ylabel(\"Age at first Birth\", fontsize=21, labelpad=20)\n",
    "#renaming the axix points\n",
    "plot.set_xticklabels( ('No Education', 'Primary Education',' Secondary Education',' Higher Education') )\n",
    "# age=19 line\n",
    "point1 = [-0.5, 19]\n",
    "point2 = [4, 19]\n",
    "\n",
    "x_values = [point1[0], point2[0]]\n",
    "y_values = [point1[1], point2[1]]\n",
    "a=plt.plot(x_values, y_values, '-k', linestyle=\"--\", label='age=19')\n",
    "point1 = [-0.5, 22]\n",
    "point2 = [4, 22]\n",
    "\n",
    "\n",
    "#labeling legend with proxy artists \n",
    "plt.yticks(fontsize=14)\n",
    "plt.xticks(fontsize=16)\n",
    "plt.legend(fontsize=18)\n",
    "import matplotlib.patches as mpatches\n",
    "import matplotlib.pyplot as plt\n",
    "import matplotlib.lines as mlines\n",
    "\n",
    "black_line = mlines.Line2D([], [], color='black',\n",
    "                          markersize=15, label='age=19')\n",
    "blue_patch = mpatches.Patch(color='#3274a1', label='poorest')\n",
    "orange_patch = mpatches.Patch(color='#e1812c', label='poorer')\n",
    "green_patch = mpatches.Patch(color='#3a923a', label='middle')\n",
    "red_patch = mpatches.Patch(color='#c03d3e', label='richer')\n",
    "violet_patch = mpatches.Patch(color='#9372b2', label='richest')\n",
    "first_legend = plt.legend(handles=[ blue_patch, orange_patch, green_patch, red_patch, violet_patch],fontsize=18)\n",
    "ax = plt.gca().add_artist(first_legend)\n",
    "plt.title(\"NFHS 3 survey 2004-2005:Status of Women(age group 15-21) who gave bith in last three years and currently pregnat\", fontsize=18)\n",
    "plt.legend(handles=a, loc=4,fontsize=18 )\n",
    "plt.show()"
   ]
  },
  {
   "cell_type": "markdown",
   "id": "d601d415",
   "metadata": {},
   "source": [
    "# cleaning data"
   ]
  },
  {
   "cell_type": "code",
   "execution_count": 57,
   "id": "c36587a6",
   "metadata": {
    "scrolled": true
   },
   "outputs": [
    {
     "data": {
      "text/plain": [
       "1272"
      ]
     },
     "execution_count": 57,
     "metadata": {},
     "output_type": "execute_result"
    }
   ],
   "source": [
    "df['v212'].isnull().sum(axis = 0)"
   ]
  },
  {
   "cell_type": "code",
   "execution_count": 102,
   "id": "cb4ed95d",
   "metadata": {},
   "outputs": [],
   "source": [
    "# filling missing values in v212 since we are counting pregnat women and women who have given birth in last 3 years:\n",
    "#in age group of 15-21"
   ]
  },
  {
   "cell_type": "code",
   "execution_count": 58,
   "id": "544dc60c",
   "metadata": {},
   "outputs": [],
   "source": [
    "df['c212']=df['v212']\n",
    "df['c212'].fillna(df['v012'],inplace=True)"
   ]
  },
  {
   "cell_type": "code",
   "execution_count": 59,
   "id": "ab35da4c",
   "metadata": {},
   "outputs": [
    {
     "data": {
      "text/plain": [
       "0"
      ]
     },
     "execution_count": 59,
     "metadata": {},
     "output_type": "execute_result"
    }
   ],
   "source": [
    "df['c212'].isnull().sum(axis = 0)"
   ]
  },
  {
   "cell_type": "code",
   "execution_count": 60,
   "id": "f7e53288",
   "metadata": {},
   "outputs": [],
   "source": [
    "df['n106'] = np.where(df['v106'] == 3, 1, 0)"
   ]
  },
  {
   "cell_type": "code",
   "execution_count": 61,
   "id": "a063fb08",
   "metadata": {},
   "outputs": [],
   "source": [
    "df['n212'] = np.where(df['c212'] >= 19, 1, 0)"
   ]
  },
  {
   "cell_type": "code",
   "execution_count": 62,
   "id": "3b041b43",
   "metadata": {},
   "outputs": [],
   "source": [
    "df1 = df[['n212', 'n106','v190',]]"
   ]
  },
  {
   "cell_type": "code",
   "execution_count": 29,
   "id": "0f149e8a",
   "metadata": {},
   "outputs": [],
   "source": [
    "df1 = df[['n212', 'v106','v190',]]"
   ]
  },
  {
   "cell_type": "code",
   "execution_count": 63,
   "id": "1e50b5e1",
   "metadata": {
    "scrolled": true
   },
   "outputs": [
    {
     "data": {
      "text/plain": [
       "0    6419\n",
       "1     117\n",
       "Name: n106, dtype: int64"
      ]
     },
     "execution_count": 63,
     "metadata": {},
     "output_type": "execute_result"
    }
   ],
   "source": [
    "df['n106'].value_counts()"
   ]
  },
  {
   "cell_type": "code",
   "execution_count": 64,
   "id": "98f7af52",
   "metadata": {},
   "outputs": [],
   "source": [
    "df['n212'] = np.where(df['c212'] >= 19, 1, 0)"
   ]
  },
  {
   "cell_type": "code",
   "execution_count": 23,
   "id": "78937a2b",
   "metadata": {
    "scrolled": false
   },
   "outputs": [
    {
     "data": {
      "text/plain": [
       "<AxesSubplot:>"
      ]
     },
     "execution_count": 23,
     "metadata": {},
     "output_type": "execute_result"
    },
    {
     "data": {
      "image/png": "[encoded data removed]",
      "text/plain": [
       "<Figure size 432x288 with 1 Axes>"
      ]
     },
     "metadata": {
      "needs_background": "light"
     },
     "output_type": "display_data"
    }
   ],
   "source": [
    "#checking for missing values\n",
    "sns.heatmap(df1.isnull(),yticklabels=False,cbar=False,cmap='viridis')"
   ]
  },
  {
   "cell_type": "code",
   "execution_count": 24,
   "id": "5728f1f5",
   "metadata": {
    "scrolled": false
   },
   "outputs": [
    {
     "data": {
      "text/plain": [
       "<seaborn.axisgrid.PairGrid at 0x1989601af70>"
      ]
     },
     "execution_count": 24,
     "metadata": {},
     "output_type": "execute_result"
    },
    {
     "data": {
      "image/png": "[encoded data removed]",
      "text/plain": [
       "<Figure size 402.375x360 with 6 Axes>"
      ]
     },
     "metadata": {
      "needs_background": "light"
     },
     "output_type": "display_data"
    }
   ],
   "source": [
    "sns.pairplot(df1, hue='n106')"
   ]
  },
  {
   "cell_type": "code",
   "execution_count": 65,
   "id": "13c9f26b",
   "metadata": {
    "scrolled": true
   },
   "outputs": [],
   "source": [
    "t=df1.corr()"
   ]
  },
  {
   "cell_type": "code",
   "execution_count": 66,
   "id": "f3232a37",
   "metadata": {},
   "outputs": [
    {
     "data": {
      "text/html": [
       "<div>\n",
       "<style scoped>\n",
       "    .dataframe tbody tr th:only-of-type {\n",
       "        vertical-align: middle;\n",
       "    }\n",
       "\n",
       "    .dataframe tbody tr th {\n",
       "        vertical-align: top;\n",
       "    }\n",
       "\n",
       "    .dataframe thead th {\n",
       "        text-align: right;\n",
       "    }\n",
       "</style>\n",
       "<table border=\"1\" class=\"dataframe\">\n",
       "  <thead>\n",
       "    <tr style=\"text-align: right;\">\n",
       "      <th></th>\n",
       "      <th>n212</th>\n",
       "      <th>n106</th>\n",
       "      <th>v190</th>\n",
       "    </tr>\n",
       "  </thead>\n",
       "  <tbody>\n",
       "    <tr>\n",
       "      <th>n212</th>\n",
       "      <td>1.000000</td>\n",
       "      <td>0.130212</td>\n",
       "      <td>0.219586</td>\n",
       "    </tr>\n",
       "    <tr>\n",
       "      <th>n106</th>\n",
       "      <td>0.130212</td>\n",
       "      <td>1.000000</td>\n",
       "      <td>0.177988</td>\n",
       "    </tr>\n",
       "    <tr>\n",
       "      <th>v190</th>\n",
       "      <td>0.219586</td>\n",
       "      <td>0.177988</td>\n",
       "      <td>1.000000</td>\n",
       "    </tr>\n",
       "  </tbody>\n",
       "</table>\n",
       "</div>"
      ],
      "text/plain": [
       "          n212      n106      v190\n",
       "n212  1.000000  0.130212  0.219586\n",
       "n106  0.130212  1.000000  0.177988\n",
       "v190  0.219586  0.177988  1.000000"
      ]
     },
     "execution_count": 66,
     "metadata": {},
     "output_type": "execute_result"
    }
   ],
   "source": [
    "t"
   ]
  },
  {
   "cell_type": "code",
   "execution_count": 27,
   "id": "ac29e18d",
   "metadata": {},
   "outputs": [
    {
     "data": {
      "text/plain": [
       "<AxesSubplot:>"
      ]
     },
     "execution_count": 27,
     "metadata": {},
     "output_type": "execute_result"
    },
    {
     "data": {
      "image/png": "[encoded data removed]",
      "text/plain": [
       "<Figure size 432x288 with 2 Axes>"
      ]
     },
     "metadata": {
      "needs_background": "light"
     },
     "output_type": "display_data"
    }
   ],
   "source": [
    "sns.heatmap(t, annot=True, cmap='seismic')"
   ]
  },
  {
   "cell_type": "code",
   "execution_count": 28,
   "id": "87e3a1e9",
   "metadata": {
    "scrolled": false
   },
   "outputs": [
    {
     "data": {
      "text/plain": [
       "<AxesSubplot:xlabel='v190', ylabel='count'>"
      ]
     },
     "execution_count": 28,
     "metadata": {},
     "output_type": "execute_result"
    },
    {
     "data": {
      "image/png": "[encoded data removed]",
      "text/plain": [
       "<Figure size 432x288 with 1 Axes>"
      ]
     },
     "metadata": {
      "needs_background": "light"
     },
     "output_type": "display_data"
    }
   ],
   "source": [
    "sns.countplot(x='v190',data=df1)"
   ]
  },
  {
   "cell_type": "markdown",
   "id": "26445f33",
   "metadata": {},
   "source": [
    "# logistic regression"
   ]
  },
  {
   "cell_type": "code",
   "execution_count": 76,
   "id": "cb52686a",
   "metadata": {},
   "outputs": [
    {
     "name": "stdout",
     "output_type": "stream",
     "text": [
      "              precision    recall  f1-score   support\n",
      "\n",
      "           0       0.62      0.91      0.74      2670\n",
      "           1       0.64      0.22      0.32      1906\n",
      "\n",
      "    accuracy                           0.62      4576\n",
      "   macro avg       0.63      0.56      0.53      4576\n",
      "weighted avg       0.63      0.62      0.57      4576\n",
      "\n"
     ]
    }
   ],
   "source": [
    "from sklearn.model_selection import train_test_split\n",
    "X = df1[['n106','v190']]\n",
    "y = df1['n212']\n",
    "X_train, X_test, y_train, y_test = train_test_split(X, y, test_size=0.7, random_state=42)\n",
    "\n",
    "# ** Train and fit a logistic regression model on the training set.**\n",
    "\n",
    "from sklearn.linear_model import LogisticRegression\n",
    "logmodel = LogisticRegression()\n",
    "logmodel.fit(X_train,y_train)\n",
    "predictions = logmodel.predict(X_test)\n",
    "from sklearn.metrics import classification_report\n",
    "print(classification_report(y_test,predictions))"
   ]
  },
  {
   "cell_type": "code",
   "execution_count": 91,
   "id": "b1554a2c",
   "metadata": {},
   "outputs": [
    {
     "data": {
      "text/html": [
       "<div>\n",
       "<style scoped>\n",
       "    .dataframe tbody tr th:only-of-type {\n",
       "        vertical-align: middle;\n",
       "    }\n",
       "\n",
       "    .dataframe tbody tr th {\n",
       "        vertical-align: top;\n",
       "    }\n",
       "\n",
       "    .dataframe thead th {\n",
       "        text-align: right;\n",
       "    }\n",
       "</style>\n",
       "<table border=\"1\" class=\"dataframe\">\n",
       "  <thead>\n",
       "    <tr style=\"text-align: right;\">\n",
       "      <th></th>\n",
       "      <th>n212</th>\n",
       "      <th>v190</th>\n",
       "    </tr>\n",
       "  </thead>\n",
       "  <tbody>\n",
       "    <tr>\n",
       "      <th>135666</th>\n",
       "      <td>1</td>\n",
       "      <td>2</td>\n",
       "    </tr>\n",
       "    <tr>\n",
       "      <th>285008</th>\n",
       "      <td>1</td>\n",
       "      <td>2</td>\n",
       "    </tr>\n",
       "    <tr>\n",
       "      <th>634150</th>\n",
       "      <td>1</td>\n",
       "      <td>5</td>\n",
       "    </tr>\n",
       "    <tr>\n",
       "      <th>689354</th>\n",
       "      <td>0</td>\n",
       "      <td>2</td>\n",
       "    </tr>\n",
       "    <tr>\n",
       "      <th>94825</th>\n",
       "      <td>0</td>\n",
       "      <td>3</td>\n",
       "    </tr>\n",
       "    <tr>\n",
       "      <th>...</th>\n",
       "      <td>...</td>\n",
       "      <td>...</td>\n",
       "    </tr>\n",
       "    <tr>\n",
       "      <th>83643</th>\n",
       "      <td>0</td>\n",
       "      <td>1</td>\n",
       "    </tr>\n",
       "    <tr>\n",
       "      <th>630978</th>\n",
       "      <td>1</td>\n",
       "      <td>2</td>\n",
       "    </tr>\n",
       "    <tr>\n",
       "      <th>259832</th>\n",
       "      <td>0</td>\n",
       "      <td>4</td>\n",
       "    </tr>\n",
       "    <tr>\n",
       "      <th>232360</th>\n",
       "      <td>1</td>\n",
       "      <td>2</td>\n",
       "    </tr>\n",
       "    <tr>\n",
       "      <th>616057</th>\n",
       "      <td>1</td>\n",
       "      <td>4</td>\n",
       "    </tr>\n",
       "  </tbody>\n",
       "</table>\n",
       "<p>21487 rows × 2 columns</p>\n",
       "</div>"
      ],
      "text/plain": [
       "        n212  v190\n",
       "135666     1     2\n",
       "285008     1     2\n",
       "634150     1     5\n",
       "689354     0     2\n",
       "94825      0     3\n",
       "...      ...   ...\n",
       "83643      0     1\n",
       "630978     1     2\n",
       "259832     0     4\n",
       "232360     1     2\n",
       "616057     1     4\n",
       "\n",
       "[21487 rows x 2 columns]"
      ]
     },
     "execution_count": 91,
     "metadata": {},
     "output_type": "execute_result"
    }
   ],
   "source": [
    "X_train"
   ]
  },
  {
   "cell_type": "code",
   "execution_count": null,
   "id": "0e7a6082",
   "metadata": {},
   "outputs": [],
   "source": [
    "# further analysis will be done to estimate the TFR if females age of leagal marriage is increaed to 21 using Bongaarts model"
   ]
  },
  {
   "cell_type": "code",
   "execution_count": 40,
   "id": "b5cc2470",
   "metadata": {
    "scrolled": true
   },
   "outputs": [
    {
     "data": {
      "text/plain": [
       "<Figure size 1800x1800 with 0 Axes>"
      ]
     },
     "metadata": {},
     "output_type": "display_data"
    },
    {
     "data": {
      "image/png": "[encoded data removed]",
      "text/plain": [
       "<Figure size 720x360 with 2 Axes>"
      ]
     },
     "metadata": {
      "needs_background": "light"
     },
     "output_type": "display_data"
    }
   ],
   "source": [
    "\n",
    "import matplotlib.pyplot as plt\n",
    "from sklearn.datasets import make_classification\n",
    "from sklearn.metrics import plot_confusion_matrix\n",
    "from sklearn.model_selection import train_test_split\n",
    "from sklearn.svm import SVC\n",
    "\n",
    "plot_confusion_matrix(logmodel, X_test, y_test, cmap='Blues')  \n",
    "plt.rcParams[\"figure.figsize\"] = (10,5)\n"
   ]
  },
  {
   "cell_type": "code",
   "execution_count": 48,
   "id": "6582fda9",
   "metadata": {},
   "outputs": [],
   "source": [
    "df['R']=df['v130']\n",
    "# creating new column B which considers birth events in last 3 years and women who are currently pregnant\n",
    "conditions=[\n",
    "    (df['v130']==1),\n",
    "    (df['v130']==2),\n",
    "    (df['v130']==3),\n",
    "    (df['v130']>3),\n",
    "    ]\n",
    "values= [1,2,3,4]\n",
    "\n",
    "df['R'] = np.select(conditions,values)"
   ]
  },
  {
   "cell_type": "code",
   "execution_count": 49,
   "id": "d41f95ee",
   "metadata": {},
   "outputs": [
    {
     "data": {
      "text/plain": [
       "4"
      ]
     },
     "execution_count": 49,
     "metadata": {},
     "output_type": "execute_result"
    }
   ],
   "source": [
    "df['R'].nunique()"
   ]
  },
  {
   "cell_type": "code",
   "execution_count": 50,
   "id": "fa65c4ce",
   "metadata": {
    "scrolled": true
   },
   "outputs": [
    {
     "data": {
      "text/plain": [
       "1    4825\n",
       "2    1086\n",
       "3     382\n",
       "4     243\n",
       "Name: R, dtype: int64"
      ]
     },
     "execution_count": 50,
     "metadata": {},
     "output_type": "execute_result"
    }
   ],
   "source": [
    "df['R'].value_counts()"
   ]
  },
  {
   "cell_type": "code",
   "execution_count": 51,
   "id": "9e676248",
   "metadata": {},
   "outputs": [],
   "source": [
    "df1 = df[['n212', 'v106','v190','R']]"
   ]
  },
  {
   "cell_type": "code",
   "execution_count": 52,
   "id": "4c7c53bf",
   "metadata": {},
   "outputs": [
    {
     "name": "stdout",
     "output_type": "stream",
     "text": [
      "Optimization terminated successfully.\n",
      "         Current function value: 0.647001\n",
      "         Iterations 5\n",
      "                           Logit Regression Results                           \n",
      "==============================================================================\n",
      "Dep. Variable:                   n212   No. Observations:                 1960\n",
      "Model:                          Logit   Df Residuals:                     1956\n",
      "Method:                           MLE   Df Model:                            3\n",
      "Date:                Sun, 03 Apr 2022   Pseudo R-squ.:                 0.04289\n",
      "Time:                        10:13:51   Log-Likelihood:                -1268.1\n",
      "converged:                       True   LL-Null:                       -1324.9\n",
      "Covariance Type:            nonrobust   LLR p-value:                 1.797e-24\n",
      "==============================================================================\n",
      "                 coef    std err          z      P>|z|      [0.025      0.975]\n",
      "------------------------------------------------------------------------------\n",
      "const         -1.3250      0.143     -9.264      0.000      -1.605      -1.045\n",
      "v106           0.2506      0.060      4.208      0.000       0.134       0.367\n",
      "v190           0.2636      0.043      6.181      0.000       0.180       0.347\n",
      "R             -0.0641      0.065     -0.985      0.325      -0.192       0.064\n",
      "==============================================================================\n"
     ]
    },
    {
     "name": "stderr",
     "output_type": "stream",
     "text": [
      "C:\\Users\\balli\\anaconda3\\lib\\site-packages\\statsmodels\\tsa\\tsatools.py:142: FutureWarning: In a future version of pandas all arguments of concat except for the argument 'objs' will be keyword-only\n",
      "  x = pd.concat(x[::order], 1)\n"
     ]
    }
   ],
   "source": [
    "from sklearn.linear_model import LogisticRegression\n",
    "import statsmodels.api as sm\n",
    "g=df1['n212']\n",
    "F=df1[['v106','v190', 'R']]\n",
    "F=sm.add_constant(F)\n",
    "\n",
    "F_train, F_test, g_train, g_test = train_test_split(F,g, test_size=0.7, random_state=42)\n",
    "logit_model2=sm.Logit(g_train,F_train.astype(float))\n",
    "result2=logit_model2.fit()\n",
    "print(result2.summary())"
   ]
  },
  {
   "cell_type": "code",
   "execution_count": 81,
   "id": "41a38eb9",
   "metadata": {},
   "outputs": [
    {
     "data": {
      "text/plain": [
       "0    6419\n",
       "1     117\n",
       "Name: n106, dtype: int64"
      ]
     },
     "execution_count": 81,
     "metadata": {},
     "output_type": "execute_result"
    }
   ],
   "source": [
    "df1['n106'].value_counts()"
   ]
  },
  {
   "cell_type": "code",
   "execution_count": 83,
   "id": "64cbbfa6",
   "metadata": {},
   "outputs": [
    {
     "data": {
      "text/plain": [
       "0    3831\n",
       "1    2705\n",
       "Name: n212, dtype: int64"
      ]
     },
     "execution_count": 83,
     "metadata": {},
     "output_type": "execute_result"
    }
   ],
   "source": [
    "df1['n212'].value_counts()"
   ]
  },
  {
   "cell_type": "code",
   "execution_count": 84,
   "id": "f46b8776",
   "metadata": {},
   "outputs": [
    {
     "data": {
      "text/plain": [
       "2    4476\n",
       "1    2060\n",
       "Name: v102, dtype: int64"
      ]
     },
     "execution_count": 84,
     "metadata": {},
     "output_type": "execute_result"
    }
   ],
   "source": [
    "df['v102'].value_counts()"
   ]
  },
  {
   "cell_type": "code",
   "execution_count": null,
   "id": "6f175374",
   "metadata": {},
   "outputs": [],
   "source": []
  }
 ],
 "metadata": {
  "kernelspec": {
   "display_name": "Python 3",
   "language": "python",
   "name": "python3"
  },
  "language_info": {
   "codemirror_mode": {
    "name": "ipython",
    "version": 3
   },
   "file_extension": ".py",
   "mimetype": "text/x-python",
   "name": "python",
   "nbconvert_exporter": "python",
   "pygments_lexer": "ipython3",
   "version": "3.8.8"
  }
 },
 "nbformat": 4,
 "nbformat_minor": 5
}
